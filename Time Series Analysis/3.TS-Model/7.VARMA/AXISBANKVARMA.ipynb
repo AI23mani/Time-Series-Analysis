{
 "cells": [
  {
   "cell_type": "code",
   "execution_count": 1,
   "id": "48173d86",
   "metadata": {},
   "outputs": [],
   "source": [
    "import pandas as pd\n",
    "from nsepy import get_history as gh\n",
    "import datetime as dt\n",
    "import yfinance as yf"
   ]
  },
  {
   "cell_type": "code",
   "execution_count": 2,
   "id": "d120ac03",
   "metadata": {},
   "outputs": [
    {
     "name": "stderr",
     "output_type": "stream",
     "text": [
      "[*********************100%%**********************]  1 of 1 completed\n"
     ]
    }
   ],
   "source": [
    "import datetime as dt\n",
    "\n",
    "start = dt.datetime(2021, 7, 1)\n",
    "end = dt.datetime(2022, 1, 27)\n",
    "symbol = 'AXISBANK.NS'  # Stock symbol in uppercase\n",
    "\n",
    "stk_data = yf.download(symbol, start=start, end=end)\n"
   ]
  },
  {
   "cell_type": "code",
   "execution_count": 3,
   "id": "f5e21aa3",
   "metadata": {},
   "outputs": [],
   "source": [
    "stk_data=stk_data[[\"Open\",\"High\",\"Low\",\"Close\"]]\n"
   ]
  },
  {
   "cell_type": "code",
   "execution_count": 4,
   "id": "c7225240",
   "metadata": {},
   "outputs": [],
   "source": [
    "#column=\"Close\""
   ]
  },
  {
   "cell_type": "code",
   "execution_count": 5,
   "id": "7ad5ebcf",
   "metadata": {},
   "outputs": [
    {
     "name": "stdout",
     "output_type": "stream",
     "text": [
      "Len: (143, 4)\n"
     ]
    }
   ],
   "source": [
    "from sklearn.preprocessing import MinMaxScaler\n",
    "Ms = MinMaxScaler()\n",
    "data1= Ms.fit_transform(stk_data)\n",
    "print(\"Len:\",data1.shape)"
   ]
  },
  {
   "cell_type": "code",
   "execution_count": 6,
   "id": "b2b41235",
   "metadata": {},
   "outputs": [],
   "source": [
    "data1=pd.DataFrame(data1,columns=[\"Open\",\"High\",\"Low\",\"Close\"])\n",
    "dataset=data1"
   ]
  },
  {
   "cell_type": "code",
   "execution_count": 7,
   "id": "79c8b1d5",
   "metadata": {},
   "outputs": [
    {
     "name": "stdout",
     "output_type": "stream",
     "text": [
      "114\n",
      "X_train length: (114, 4)\n",
      "X_test length: (29, 4)\n",
      "y_train length: (114, 4)\n",
      "y_test length: (29, 4)\n"
     ]
    }
   ],
   "source": [
    "training_size = round(len(data1 ) * 0.80)\n",
    "print(training_size)\n",
    "X_train=data1[:training_size]\n",
    "X_test=data1[training_size:]\n",
    "print(\"X_train length:\",X_train.shape)\n",
    "print(\"X_test length:\",X_test.shape)\n",
    "y_train=data1[:training_size]\n",
    "y_test=data1[training_size:]\n",
    "print(\"y_train length:\",y_train.shape)\n",
    "print(\"y_test length:\",y_test.shape)"
   ]
  },
  {
   "cell_type": "code",
   "execution_count": 8,
   "id": "466d94f9",
   "metadata": {},
   "outputs": [],
   "source": [
    "import warnings\n",
    "warnings.filterwarnings(\"ignore\")"
   ]
  },
  {
   "cell_type": "code",
   "execution_count": 9,
   "id": "4df2eaa9",
   "metadata": {},
   "outputs": [],
   "source": [
    "performance={\"Model\":[],\"RMSE\":[],\"MaPe\":[],\"Lag\":[],\"Test\":[]}"
   ]
  },
  {
   "cell_type": "code",
   "execution_count": 10,
   "id": "3b6caee0",
   "metadata": {},
   "outputs": [],
   "source": [
    "def combination(dataset, listt):\n",
    "    \"\"\"\n",
    "    Function to perform VARMA model parameter tuning and forecasting.\n",
    "\n",
    "    Parameters:\n",
    "    - dataset: Pandas DataFrame or Series containing the time series data.\n",
    "    - listt: List of variables to use for forecasting.\n",
    "\n",
    "    Returns:\n",
    "    - perf: DataFrame containing performance metrics.\n",
    "    - result: Fitted VARMA model.\n",
    "    - pred: Forecasted values.\n",
    "    \"\"\"\n",
    "    print(listt)\n",
    "    datasetTwo = dataset[listt]\n",
    "    test_obs = 28\n",
    "    train = datasetTwo[:-test_obs]\n",
    "    test = datasetTwo[-test_obs:]\n",
    "    \n",
    "    from statsmodels.tsa.statespace.varmax import VARMAX\n",
    "    from sklearn.metrics import mean_squared_error, mean_absolute_percentage_error\n",
    "\n",
    "    performance = {\n",
    "        \"Model\": [],\n",
    "        \"RMSE\": [],\n",
    "        \"MaPe\": [],\n",
    "        \"Lag\": [],\n",
    "        \"Test\": []\n",
    "    }\n",
    "\n",
    "    best_aic = float('inf')\n",
    "    best_params = None\n",
    "\n",
    "    for p in range(1, 4):  # AR order\n",
    "        for q in range(1, 4):  # MA order\n",
    "            try:\n",
    "                model = VARMAX(train, order=(p, 0, q))\n",
    "                results = model.fit(maxiter=1000, disp=False)\n",
    "                aic = results.aic\n",
    "                if aic < best_aic:\n",
    "                    best_aic = aic\n",
    "                    best_params = (p, 0, q)\n",
    "            except:\n",
    "                continue\n",
    "\n",
    "    print(\"Best AIC:\", best_aic)\n",
    "    print(\"Best Parameters (p, d, q):\", best_params)\n",
    "\n",
    "    # Fit VARMA model with the best parameters\n",
    "    model = VARMAX(train, order=best_params) \n",
    "    results = model.fit()\n",
    "\n",
    "    # Forecast\n",
    "    pred = results.forecast(steps=test_obs)\n",
    "\n",
    "    # Calculate performance metrics\n",
    "    rmse = round(mean_squared_error(test, pred, squared=False))\n",
    "    mape = mean_absolute_percentage_error(test, pred)\n",
    "    \n",
    "    # Store performance metrics\n",
    "    performance[\"Model\"].append(listt)\n",
    "    performance[\"RMSE\"].append(rmse)\n",
    "    performance[\"MaPe\"].append(mape)\n",
    "    performance[\"Lag\"].append(best_params)\n",
    "    performance[\"Test\"].append(test_obs)\n",
    "    \n",
    "    perf = pd.DataFrame(performance)\n",
    "    return perf, results, pred\n"
   ]
  },
  {
   "cell_type": "code",
   "execution_count": 11,
   "id": "1ca74337",
   "metadata": {},
   "outputs": [],
   "source": [
    "listt=[\"Close\",\"High\",\"Open\",\"Low\"]\n",
    "#listt=[\"AQI_calculated\",\"PM10\",\"PM2.5\",\"NOx\",\"NO2\",\"NO\",\"NH3\",\"SO2\",\"CO\",'year']\n"
   ]
  },
  {
   "cell_type": "code",
   "execution_count": 14,
   "id": "3294031a",
   "metadata": {},
   "outputs": [
    {
     "name": "stdout",
     "output_type": "stream",
     "text": [
      "['Close', 'High', 'Open', 'Low']\n",
      "Best AIC: -1918.7183222839471\n",
      "Best Parameters (p, d, q): (2, 0, 1)\n"
     ]
    }
   ],
   "source": [
    "perf,result,pred=combination(data1, listt)"
   ]
  },
  {
   "cell_type": "code",
   "execution_count": null,
   "id": "43375522",
   "metadata": {},
   "outputs": [],
   "source": [
    "data1"
   ]
  },
  {
   "cell_type": "code",
   "execution_count": null,
   "id": "1ec452de",
   "metadata": {},
   "outputs": [],
   "source": [
    "perf"
   ]
  },
  {
   "cell_type": "code",
   "execution_count": null,
   "id": "8aae9795",
   "metadata": {},
   "outputs": [],
   "source": []
  },
  {
   "cell_type": "code",
   "execution_count": null,
   "id": "8d32ea48",
   "metadata": {},
   "outputs": [],
   "source": []
  },
  {
   "cell_type": "code",
   "execution_count": null,
   "id": "0dc8fc6e",
   "metadata": {},
   "outputs": [],
   "source": []
  },
  {
   "cell_type": "code",
   "execution_count": null,
   "id": "e2f78414",
   "metadata": {},
   "outputs": [],
   "source": []
  },
  {
   "cell_type": "code",
   "execution_count": null,
   "id": "f8a43a31",
   "metadata": {},
   "outputs": [],
   "source": []
  },
  {
   "cell_type": "code",
   "execution_count": null,
   "id": "1aad2dc2",
   "metadata": {},
   "outputs": [],
   "source": []
  },
  {
   "cell_type": "code",
   "execution_count": null,
   "id": "2a3a5690",
   "metadata": {},
   "outputs": [],
   "source": []
  },
  {
   "cell_type": "code",
   "execution_count": null,
   "id": "f7513753",
   "metadata": {},
   "outputs": [],
   "source": []
  },
  {
   "cell_type": "code",
   "execution_count": null,
   "id": "fb7b9b43",
   "metadata": {},
   "outputs": [],
   "source": []
  },
  {
   "cell_type": "code",
   "execution_count": null,
   "id": "39090e5f",
   "metadata": {},
   "outputs": [],
   "source": []
  },
  {
   "cell_type": "code",
   "execution_count": null,
   "id": "be71be7e",
   "metadata": {},
   "outputs": [],
   "source": []
  },
  {
   "cell_type": "code",
   "execution_count": null,
   "id": "ef65a4df",
   "metadata": {},
   "outputs": [],
   "source": []
  },
  {
   "cell_type": "code",
   "execution_count": null,
   "id": "d1288ab6",
   "metadata": {},
   "outputs": [],
   "source": []
  },
  {
   "cell_type": "code",
   "execution_count": null,
   "id": "9b304880",
   "metadata": {},
   "outputs": [],
   "source": []
  },
  {
   "cell_type": "code",
   "execution_count": null,
   "id": "67993afc",
   "metadata": {},
   "outputs": [],
   "source": []
  },
  {
   "cell_type": "code",
   "execution_count": null,
   "id": "e736efa9",
   "metadata": {},
   "outputs": [],
   "source": []
  },
  {
   "cell_type": "code",
   "execution_count": null,
   "id": "f5589944",
   "metadata": {},
   "outputs": [],
   "source": []
  },
  {
   "cell_type": "code",
   "execution_count": null,
   "id": "1e457408",
   "metadata": {},
   "outputs": [],
   "source": []
  },
  {
   "cell_type": "code",
   "execution_count": null,
   "id": "063be3ad",
   "metadata": {},
   "outputs": [],
   "source": []
  },
  {
   "cell_type": "code",
   "execution_count": null,
   "id": "9fd6f3bc",
   "metadata": {},
   "outputs": [],
   "source": []
  },
  {
   "cell_type": "code",
   "execution_count": null,
   "id": "75b7c5d1",
   "metadata": {},
   "outputs": [],
   "source": []
  },
  {
   "cell_type": "code",
   "execution_count": null,
   "id": "65c06560",
   "metadata": {},
   "outputs": [],
   "source": []
  },
  {
   "cell_type": "code",
   "execution_count": null,
   "id": "40ab1b02",
   "metadata": {},
   "outputs": [],
   "source": []
  },
  {
   "cell_type": "code",
   "execution_count": null,
   "id": "e289c5c7",
   "metadata": {},
   "outputs": [],
   "source": []
  },
  {
   "cell_type": "code",
   "execution_count": null,
   "id": "e4d470fe",
   "metadata": {},
   "outputs": [],
   "source": []
  },
  {
   "cell_type": "code",
   "execution_count": null,
   "id": "cf801120",
   "metadata": {},
   "outputs": [],
   "source": []
  },
  {
   "cell_type": "code",
   "execution_count": null,
   "id": "1a32370e",
   "metadata": {},
   "outputs": [],
   "source": []
  }
 ],
 "metadata": {
  "kernelspec": {
   "display_name": "Python 3 (ipykernel)",
   "language": "python",
   "name": "python3"
  },
  "language_info": {
   "codemirror_mode": {
    "name": "ipython",
    "version": 3
   },
   "file_extension": ".py",
   "mimetype": "text/x-python",
   "name": "python",
   "nbconvert_exporter": "python",
   "pygments_lexer": "ipython3",
   "version": "3.11.7"
  }
 },
 "nbformat": 4,
 "nbformat_minor": 5
}
